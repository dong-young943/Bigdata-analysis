{
  "nbformat": 4,
  "nbformat_minor": 0,
  "metadata": {
    "colab": {
      "provenance": [],
      "collapsed_sections": [],
      "authorship_tag": "ABX9TyPeDAc9W2y8k4+LYTI5CumJ",
      "include_colab_link": true
    },
    "kernelspec": {
      "name": "python3",
      "display_name": "Python 3"
    },
    "language_info": {
      "name": "python"
    }
  },
  "cells": [
    {
      "cell_type": "markdown",
      "metadata": {
        "id": "view-in-github",
        "colab_type": "text"
      },
      "source": [
        "<a href=\"https://colab.research.google.com/github/dong-young943/Bigdata-analysis/blob/main/%EB%B9%85%EB%8D%B0%EC%9D%B4%ED%84%B0%EB%B6%84%EC%84%9D%EA%B8%B0%EC%82%AC_%EB%8C%80%EA%B5%AC%EB%B9%85%EB%8D%B0%EC%9D%B4%ED%84%B0%ED%99%9C%EC%9A%A9%EC%84%BC%ED%84%B0_%EA%B8%B0%EC%B6%9C_%EC%9E%91%EC%97%85%ED%98%95_%EC%9C%A0%ED%98%95_1_%EB%AC%B8%EC%A0%9C(2).ipynb\" target=\"_parent\"><img src=\"https://colab.research.google.com/assets/colab-badge.svg\" alt=\"Open In Colab\"/></a>"
      ]
    },
    {
      "cell_type": "markdown",
      "source": [
        "# 빅데이터분석기사 대구빅데이터활용센터 기출\n",
        "## 작업형 유형 1 문제(2)\n",
        "#### 특정 비율만큼 데이터와 결측치 대체, 전처리 전후 표준편차 비교\n",
        "- 데이터 첫번째 행부터 70%까지의 데이터 추출한 후\n",
        "- distance(거리)의 결측값을 distance(거리)의 중앙값으로 대체하고\n",
        "- 결측값 전처리 전과 후의 표준편차를 비교\n",
        "- 전/후 결과값 print 출력\n",
        "###### seaborn, pandas, numpy 라이브러리 불러오기\n",
        "\n"
      ],
      "metadata": {
        "id": "IdT_AmvGbCRQ"
      }
    },
    {
      "cell_type": "code",
      "execution_count": 1,
      "metadata": {
        "id": "5aH0818Fa-ud"
      },
      "outputs": [],
      "source": [
        "import seaborn as sns\n",
        "import pandas as pd\n",
        "import numpy as np"
      ]
    },
    {
      "cell_type": "markdown",
      "source": [
        "###### seaborn 'planets' 데이터 불러오기"
      ],
      "metadata": {
        "id": "GZ9FppW8bboY"
      }
    },
    {
      "cell_type": "code",
      "source": [
        "df=sns.load_dataset('planets')\n",
        "df.head"
      ],
      "metadata": {
        "colab": {
          "base_uri": "https://localhost:8080/"
        },
        "id": "Gz6H_yMVbV3d",
        "outputId": "a1f6a8fa-5f37-46a5-852a-4fac4b4e2152"
      },
      "execution_count": 2,
      "outputs": [
        {
          "output_type": "execute_result",
          "data": {
            "text/plain": [
              "<bound method NDFrame.head of                method  number  orbital_period   mass  distance  year\n",
              "0     Radial Velocity       1      269.300000   7.10     77.40  2006\n",
              "1     Radial Velocity       1      874.774000   2.21     56.95  2008\n",
              "2     Radial Velocity       1      763.000000   2.60     19.84  2011\n",
              "3     Radial Velocity       1      326.030000  19.40    110.62  2007\n",
              "4     Radial Velocity       1      516.220000  10.50    119.47  2009\n",
              "...               ...     ...             ...    ...       ...   ...\n",
              "1030          Transit       1        3.941507    NaN    172.00  2006\n",
              "1031          Transit       1        2.615864    NaN    148.00  2007\n",
              "1032          Transit       1        3.191524    NaN    174.00  2007\n",
              "1033          Transit       1        4.125083    NaN    293.00  2008\n",
              "1034          Transit       1        4.187757    NaN    260.00  2008\n",
              "\n",
              "[1035 rows x 6 columns]>"
            ]
          },
          "metadata": {},
          "execution_count": 2
        }
      ]
    },
    {
      "cell_type": "markdown",
      "source": [
        "###### len길이만큼 데이터를 잘라서 df 변수에 할당"
      ],
      "metadata": {
        "id": "kg-IsmxabgdX"
      }
    },
    {
      "cell_type": "code",
      "source": [
        "len = int(len(df)*0.7)"
      ],
      "metadata": {
        "id": "7_uS3qgKbdl-"
      },
      "execution_count": 3,
      "outputs": []
    },
    {
      "cell_type": "markdown",
      "source": [
        "###### len길이만큼 데이터를 잘라서 df에 할당"
      ],
      "metadata": {
        "id": "65IrZ6Wqbmb-"
      }
    },
    {
      "cell_type": "code",
      "source": [
        "df=df[:len]\n",
        "df.head"
      ],
      "metadata": {
        "colab": {
          "base_uri": "https://localhost:8080/"
        },
        "id": "GgmOVk9Ybj1R",
        "outputId": "89fd4903-4057-433f-c138-c43a57072d21"
      },
      "execution_count": 4,
      "outputs": [
        {
          "output_type": "execute_result",
          "data": {
            "text/plain": [
              "<bound method NDFrame.head of               method  number  orbital_period   mass  distance  year\n",
              "0    Radial Velocity       1      269.300000   7.10     77.40  2006\n",
              "1    Radial Velocity       1      874.774000   2.21     56.95  2008\n",
              "2    Radial Velocity       1      763.000000   2.60     19.84  2011\n",
              "3    Radial Velocity       1      326.030000  19.40    110.62  2007\n",
              "4    Radial Velocity       1      516.220000  10.50    119.47  2009\n",
              "..               ...     ...             ...    ...       ...   ...\n",
              "719          Transit       1      131.458000    NaN   1645.00  2011\n",
              "720          Transit       2       13.839890    NaN    470.00  2012\n",
              "721          Transit       2       16.238550    NaN    470.00  2012\n",
              "722          Transit       3       13.367308    NaN     66.00  2013\n",
              "723          Transit       3       21.301886    NaN     66.00  2013\n",
              "\n",
              "[724 rows x 6 columns]>"
            ]
          },
          "metadata": {},
          "execution_count": 4
        }
      ]
    },
    {
      "cell_type": "markdown",
      "source": [
        "###### df2를 복사하여 생성"
      ],
      "metadata": {
        "id": "iXuR6EcMbq-5"
      }
    },
    {
      "cell_type": "code",
      "source": [
        "df2=df.copy()\n",
        "df2.head"
      ],
      "metadata": {
        "colab": {
          "base_uri": "https://localhost:8080/"
        },
        "id": "EVoKGxlVboUK",
        "outputId": "b82522c5-bbfa-47c2-acf0-b8f99778ef00"
      },
      "execution_count": 5,
      "outputs": [
        {
          "output_type": "execute_result",
          "data": {
            "text/plain": [
              "<bound method NDFrame.head of               method  number  orbital_period   mass  distance  year\n",
              "0    Radial Velocity       1      269.300000   7.10     77.40  2006\n",
              "1    Radial Velocity       1      874.774000   2.21     56.95  2008\n",
              "2    Radial Velocity       1      763.000000   2.60     19.84  2011\n",
              "3    Radial Velocity       1      326.030000  19.40    110.62  2007\n",
              "4    Radial Velocity       1      516.220000  10.50    119.47  2009\n",
              "..               ...     ...             ...    ...       ...   ...\n",
              "719          Transit       1      131.458000    NaN   1645.00  2011\n",
              "720          Transit       2       13.839890    NaN    470.00  2012\n",
              "721          Transit       2       16.238550    NaN    470.00  2012\n",
              "722          Transit       3       13.367308    NaN     66.00  2013\n",
              "723          Transit       3       21.301886    NaN     66.00  2013\n",
              "\n",
              "[724 rows x 6 columns]>"
            ]
          },
          "metadata": {},
          "execution_count": 5
        }
      ]
    },
    {
      "cell_type": "markdown",
      "source": [
        "###### df2의 distance 열 결측치를 중앙값으로 대체"
      ],
      "metadata": {
        "id": "VEtoa8VabvpQ"
      }
    },
    {
      "cell_type": "code",
      "source": [
        "df2['distance']=df2['distance'].fillna(df2['distance'].median())\n",
        "df2.head"
      ],
      "metadata": {
        "colab": {
          "base_uri": "https://localhost:8080/"
        },
        "id": "PVEzLumybs7o",
        "outputId": "92c7cf9f-7140-43a3-d598-58e79c262852"
      },
      "execution_count": 6,
      "outputs": [
        {
          "output_type": "execute_result",
          "data": {
            "text/plain": [
              "<bound method NDFrame.head of               method  number  orbital_period   mass  distance  year\n",
              "0    Radial Velocity       1      269.300000   7.10     77.40  2006\n",
              "1    Radial Velocity       1      874.774000   2.21     56.95  2008\n",
              "2    Radial Velocity       1      763.000000   2.60     19.84  2011\n",
              "3    Radial Velocity       1      326.030000  19.40    110.62  2007\n",
              "4    Radial Velocity       1      516.220000  10.50    119.47  2009\n",
              "..               ...     ...             ...    ...       ...   ...\n",
              "719          Transit       1      131.458000    NaN   1645.00  2011\n",
              "720          Transit       2       13.839890    NaN    470.00  2012\n",
              "721          Transit       2       16.238550    NaN    470.00  2012\n",
              "722          Transit       3       13.367308    NaN     66.00  2013\n",
              "723          Transit       3       21.301886    NaN     66.00  2013\n",
              "\n",
              "[724 rows x 6 columns]>"
            ]
          },
          "metadata": {},
          "execution_count": 6
        }
      ]
    },
    {
      "cell_type": "markdown",
      "source": [
        "###### 결측치 전의 distance열의 표준편차와 결측치 보정후 distance열의 표준편차를 print함수로 출력"
      ],
      "metadata": {
        "id": "0C5mucmhb6Dm"
      }
    },
    {
      "cell_type": "code",
      "source": [
        "print('전처리 전', np.std(df['distance']))\n",
        "print('전처리 후', np.std(df2['distance']))"
      ],
      "metadata": {
        "colab": {
          "base_uri": "https://localhost:8080/"
        },
        "id": "JxLuHW99b3e-",
        "outputId": "577079b4-891d-421a-adb8-167745d88918"
      },
      "execution_count": 7,
      "outputs": [
        {
          "output_type": "stream",
          "name": "stdout",
          "text": [
            "전처리 전 275.0161144074896\n",
            "전처리 후 267.0513844259766\n"
          ]
        }
      ]
    },
    {
      "cell_type": "code",
      "source": [],
      "metadata": {
        "id": "lFDhYwgdb7ne"
      },
      "execution_count": null,
      "outputs": []
    }
  ]
}